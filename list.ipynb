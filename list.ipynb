{
 "cells": [
  {
   "cell_type": "code",
   "execution_count": 5,
   "metadata": {},
   "outputs": [
    {
     "name": "stdout",
     "output_type": "stream",
     "text": [
      "Hello\n",
      "<class 'str'>\n",
      "<class 'int'>\n",
      "<class 'float'>\n",
      "<class 'bool'>\n"
     ]
    }
   ],
   "source": [
    "print('Hello')\n",
    "name = 'John Doe'\n",
    "print(type(name))\n",
    "\n",
    "x = 10\n",
    "print(type(x))\n",
    "\n",
    "y = 10.5\n",
    "print(type(y))\n",
    "\n",
    "is_student = True\n",
    "print(type(is_student))\n",
    "\n",
    "\n",
    "\n",
    "\n"
   ]
  },
  {
   "cell_type": "code",
   "execution_count": 9,
   "metadata": {},
   "outputs": [
    {
     "name": "stdout",
     "output_type": "stream",
     "text": [
      "[1, 2, 3, 4, 5]\n",
      "['sugar', 'milk', 'bread', 'detergents']\n",
      "['sugar', 'milk', 3, 5, True, None]\n",
      "['sugar', 'milk', 3, 5, True, None, ['bread', 'detergents']]\n"
     ]
    }
   ],
   "source": [
    "# They are mutable\n",
    "# They can have a collection of elements of different data types\n",
    "\n",
    "numbers = [1, 2, 3, 4, 5]\n",
    "\n",
    "print(numbers)\n",
    "\n",
    "shopping = ['sugar', 'milk', 'bread', 'detergents']\n",
    "print(shopping)\n",
    "\n",
    "mixed_list = ['sugar', 'milk', 3, 5, True, None]\n",
    "print(mixed_list)\n",
    "\n",
    "# Nested list\n",
    "\n",
    "nested_list = ['sugar', 'milk', 3, 5, True, None, ['bread', 'detergents']]\n",
    "print(nested_list)\n"
   ]
  },
  {
   "cell_type": "code",
   "execution_count": 10,
   "metadata": {},
   "outputs": [
    {
     "name": "stdout",
     "output_type": "stream",
     "text": [
      "Index: 0: sugar\n",
      "Index: 1: milk\n",
      "Index: 2: bread\n",
      "Index: 3: detergents\n"
     ]
    }
   ],
   "source": [
    "shopping = ['sugar', 'milk', 'bread', 'detergents']\n",
    "\n",
    "for index, item in enumerate(shopping):\n",
    "    print(f\"Index: {index}: {item}\")"
   ]
  },
  {
   "cell_type": "code",
   "execution_count": 13,
   "metadata": {},
   "outputs": [
    {
     "name": "stdout",
     "output_type": "stream",
     "text": [
      "sugar\n",
      "1\n"
     ]
    }
   ],
   "source": [
    "print(shopping[0])\n",
    "\n",
    "print(shopping.index('milk'))"
   ]
  },
  {
   "cell_type": "code",
   "execution_count": 23,
   "metadata": {},
   "outputs": [
    {
     "name": "stdout",
     "output_type": "stream",
     "text": [
      "bread\n",
      "Honda CR-V\n",
      "Cars in this category\n",
      " * Toyota Corolla\n",
      " * Toyota Camry\n",
      " * Toyota Probox\n",
      " * Toyota Harrier\n",
      "Cars in this category\n",
      " * Ford Mustang\n",
      " * Ford Explorer\n",
      " * Ford Raptor\n",
      " * Ford F-150\n",
      "Cars in this category\n",
      " * Honda Civic\n",
      " * Honda Fit\n",
      " * Honda CR-V\n"
     ]
    }
   ],
   "source": [
    "nested_list = ['sugar', 'milk', 3, 5, True, None, ['bread', 'detergents']]\n",
    "print(nested_list[6][0])\n",
    "\n",
    "cars = [\n",
    "    ['Toyota Corolla', 'Toyota Camry', 'Toyota Probox', 'Toyota Harrier'],\n",
    "    ['Ford Mustang', 'Ford Explorer', 'Ford Raptor', 'Ford F-150'],\n",
    "    ['Honda Civic', 'Honda Fit', 'Honda CR-V']\n",
    "]\n",
    "\n",
    "print(cars[2][2])\n",
    "\n",
    "for category in cars:\n",
    "    print(\"Cars in this category\")\n",
    "    for car in category:\n",
    "        print(f' * {car}')"
   ]
  },
  {
   "cell_type": "code",
   "execution_count": 32,
   "metadata": {},
   "outputs": [
    {
     "name": "stdout",
     "output_type": "stream",
     "text": [
      "sugar\n",
      "milk\n",
      "bread\n",
      "detergents\n",
      "cooking oil\n"
     ]
    }
   ],
   "source": [
    "shopping = ['sugar', 'milk', 'bread', 'detergents']\n",
    "shopping.append('cooking oil')\n",
    "\n",
    "for item in shopping:\n",
    "    print(item)"
   ]
  },
  {
   "cell_type": "code",
   "execution_count": 31,
   "metadata": {},
   "outputs": [
    {
     "name": "stdout",
     "output_type": "stream",
     "text": [
      "sugar\n",
      "milk\n",
      "bread\n",
      "detergents\n",
      "cooking oil\n",
      "salt\n"
     ]
    }
   ],
   "source": [
    "shopping = ['sugar', 'milk', 'bread', 'detergents']\n",
    "shopping.extend(['cooking oil', 'salt'])\n",
    "\n",
    "\n",
    "for item in shopping:\n",
    "    print(item)"
   ]
  },
  {
   "cell_type": "code",
   "execution_count": 34,
   "metadata": {},
   "outputs": [
    {
     "name": "stdout",
     "output_type": "stream",
     "text": [
      "sugar\n",
      "milk\n",
      "cooking oil\n",
      "bread\n",
      "detergents\n"
     ]
    }
   ],
   "source": [
    "shopping = ['sugar', 'milk', 'bread', 'detergents']\n",
    "shopping.insert(2, 'cooking oil')\n",
    "\n",
    "\n",
    "for item in shopping:\n",
    "    print(item)\n",
    "    "
   ]
  },
  {
   "cell_type": "code",
   "execution_count": 40,
   "metadata": {},
   "outputs": [
    {
     "name": "stdout",
     "output_type": "stream",
     "text": [
      "sugar\n",
      "milk\n",
      "detergents\n"
     ]
    }
   ],
   "source": [
    "shopping = ['sugar', 'milk', 'bread', 'detergents']\n",
    "shopping.remove('bread')\n",
    "\n",
    "for item in shopping:\n",
    "    print(item)\n",
    "    "
   ]
  },
  {
   "cell_type": "code",
   "execution_count": 46,
   "metadata": {},
   "outputs": [
    {
     "name": "stdout",
     "output_type": "stream",
     "text": [
      "sugar\n",
      "bread\n",
      "detergents\n"
     ]
    }
   ],
   "source": [
    "shopping = ['sugar', 'milk', 'bread', 'detergents']\n",
    "shopping.pop(1)\n",
    "\n",
    "for item in shopping:\n",
    "    print(item)\n",
    "    "
   ]
  },
  {
   "cell_type": "code",
   "execution_count": 51,
   "metadata": {},
   "outputs": [
    {
     "name": "stdout",
     "output_type": "stream",
     "text": [
      "1\n"
     ]
    }
   ],
   "source": [
    "shopping = ['sugar', 'milk', 'bread', 'detergents', 'sugar']\n",
    "count = shopping.count('bread')\n",
    "print(count)\n",
    "# for item in shopping:\n",
    "#     print(item)\n",
    "    "
   ]
  },
  {
   "cell_type": "code",
   "execution_count": 54,
   "metadata": {},
   "outputs": [
    {
     "name": "stdout",
     "output_type": "stream",
     "text": [
      "detergents\n",
      "bread\n",
      "milk\n",
      "sugar\n"
     ]
    }
   ],
   "source": [
    "shopping = ['sugar', 'milk', 'bread', 'detergents']\n",
    "shopping.reverse()\n",
    "for item in shopping:\n",
    "    print(item)\n",
    "    "
   ]
  }
 ],
 "metadata": {
  "kernelspec": {
   "display_name": "Python 3",
   "language": "python",
   "name": "python3"
  },
  "language_info": {
   "codemirror_mode": {
    "name": "ipython",
    "version": 3
   },
   "file_extension": ".py",
   "mimetype": "text/x-python",
   "name": "python",
   "nbconvert_exporter": "python",
   "pygments_lexer": "ipython3",
   "version": "3.12.3"
  }
 },
 "nbformat": 4,
 "nbformat_minor": 2
}
